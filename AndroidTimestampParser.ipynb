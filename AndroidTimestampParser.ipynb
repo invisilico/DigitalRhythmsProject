{
  "nbformat": 4,
  "nbformat_minor": 0,
  "metadata": {
    "colab": {
      "name": "AndroidTimestampParser.ipynb",
      "provenance": [],
      "collapsed_sections": [],
      "authorship_tag": "ABX9TyNTljI0lPJqAb1Y2ZCBanZ3",
      "include_colab_link": true
    },
    "kernelspec": {
      "name": "python3",
      "display_name": "Python 3"
    }
  },
  "cells": [
    {
      "cell_type": "markdown",
      "metadata": {
        "id": "view-in-github",
        "colab_type": "text"
      },
      "source": [
        "<a href=\"https://colab.research.google.com/github/invisilico/DigitalRhythmsProject/blob/master/AndroidTimestampParser.ipynb\" target=\"_parent\"><img src=\"https://colab.research.google.com/assets/colab-badge.svg\" alt=\"Open In Colab\"/></a>"
      ]
    },
    {
      "cell_type": "markdown",
      "metadata": {
        "id": "Li774Yz7TYP2"
      },
      "source": [
        "# HTML version My Activity timestamp extractor. \n",
        "\n",
        "\n",
        "---\n",
        "\n",
        "\n",
        "Accepts all variations of timestamps and stores timezones separately (see dataframe structure below). Works only with the HTML version of android \"My Activity\" files obtained from takeout.google.com . \n",
        "\n",
        "\n",
        "```\n",
        "# DataFrame Structure\n",
        "\n",
        "App       TimeStamp             TimeZone\n",
        "\n",
        "Appname   YYYY-MM-DD HH:MM:SS   UTC\n",
        "Appname   YYYY-MM-DD HH:MM:SS   UTC\n",
        "Appname   YYYY-MM-DD HH:MM:SS   UTC\n",
        "Appname   YYYY-MM-DD HH:MM:SS   UTC\n",
        "```\n",
        "\n"
      ]
    },
    {
      "cell_type": "code",
      "metadata": {
        "id": "L5NS8PrTJA1Z",
        "cellView": "form"
      },
      "source": [
        "#@title Set-Up \n",
        "#@markdown This cell **must** be run. Other cells will not function without doing so.\n",
        "\n",
        "from google.colab import files\n",
        "import os\n",
        "import pandas as pd\n",
        "import numpy as np\n",
        "import re\n",
        "import matplotlib.pyplot as plt\n",
        "from datetime import datetime\n",
        "from dateutil.parser import parse"
      ],
      "execution_count": 3,
      "outputs": []
    },
    {
      "cell_type": "code",
      "metadata": {
        "id": "Ymh-ZTt_JPDf",
        "cellView": "form"
      },
      "source": [
        "#@title Upload data file\n",
        "#@markdown Consider using  trial datasets for testing purposes.\n",
        "file = files.upload()\n",
        "\n",
        "os.rename(r'My Activity.html',r'actdata.txt')\n",
        "with open('actdata.txt','r') as file:\n",
        "  data = file.readlines()\n",
        "print(\"Data loaded from file.\")\n",
        "!rm *.* #removes file, bash shell command\n",
        "print(\"File deleted from Colab, verify in files on left panel.\")"
      ],
      "execution_count": null,
      "outputs": []
    },
    {
      "cell_type": "code",
      "metadata": {
        "id": "qAkXGL3bHQL1",
        "cellView": "form"
      },
      "source": [
        "#@title Run to load example data file\n",
        "\n",
        "!curl https://raw.githubusercontent.com/invisilico/DigitalRhythmsProject/master/Sample%20Datasets/My%20Activity.tar.gz --output MyActivity.tar.gz\n",
        "!tar -xvf  'MyActivity.tar.gz'\n",
        "\n",
        "os.rename(r'My Activity.html',r'actdata.txt')\n",
        "with open('actdata.txt','r') as file:\n",
        "  data = file.readlines()\n",
        "print(\"Data loaded from file.\")\n",
        "!rm *.* #removes file, bash shell command\n",
        "print(\"File deleted from Colab, verify in files on left panel.\")"
      ],
      "execution_count": null,
      "outputs": []
    },
    {
      "cell_type": "code",
      "metadata": {
        "id": "GwOtdMOmeQkX",
        "cellView": "form"
      },
      "source": [
        "#@title Build Dataframe\n",
        "\n",
        "actdat = data[32]\n",
        "\n",
        "preapp = [app.end(0) for app in re.finditer('<p class=\"mdl-typography--title\">', actdat)] \n",
        "postapp = [app.start(0) for app in re.finditer('<br></p></div><div class=\"content-cell mdl-cell mdl-cell--6-col mdl-typography--body-1\">', actdat)]\n",
        "posttime = [time.start(0) for time in re.finditer('</div><div class=\"content-cell mdl-cell mdl-cell--6-col mdl-typography--body-1 mdl-typography--text-right\">', actdat)]\n",
        "\n",
        "appname = []\n",
        "datetime = []\n",
        "timezone = []\n",
        "\n",
        "for i in range(len(posttime)):\n",
        "\n",
        "  appname += [actdat[preapp[i]:postapp[i]]]\n",
        "\n",
        "  stamp = actdat[posttime[i]-30:posttime[i]]\n",
        "  idx = [app.end(0) for app in re.finditer('>', stamp)]\n",
        "  if len(idx) > 0:\n",
        "    stamp = stamp[idx[-1]:]\n",
        "\n",
        "  datetime += [parse(stamp[:-4])]\n",
        "  timezone += [stamp[-3:]]\n",
        "\n",
        "dataframe = pd.DataFrame(list(zip(appname,datetime,timezone)),columns = ['App','Timestamp','TimeZone'])\n",
        "print(dataframe.head())"
      ],
      "execution_count": null,
      "outputs": []
    },
    {
      "cell_type": "code",
      "metadata": {
        "id": "mi5XyHlp_6Bp",
        "cellView": "form"
      },
      "source": [
        "#@title Privacy Filter\n",
        "#@markdown Removes app names for privacy when sharing data. All apps are renamed to \"app\" with exception of clock/alarm apps which are renamed to \"clock\"\n",
        "\n",
        "dataframe.loc[dataframe['App'].str.contains('clock', case=False), 'App'] = 'clock'\n",
        "dataframe.loc[dataframe['App'] != \"clock\", \"App\"] = \"app\"\n",
        "\n",
        "print(\"appnames have been removed, replaced with \"+str(dataframe.App.unique())+\"\\n\\n\")\n",
        "print(dataframe.head())"
      ],
      "execution_count": null,
      "outputs": []
    },
    {
      "cell_type": "code",
      "metadata": {
        "id": "ZwaOJd3wRHu6",
        "cellView": "form"
      },
      "source": [
        "#@title Download dataframe as csv\n",
        "dataframe.to_csv(\"AllData.csv\")\n",
        "files.download(\"AllData.csv\")"
      ],
      "execution_count": null,
      "outputs": []
    },
    {
      "cell_type": "code",
      "metadata": {
        "id": "El6hXH3kWeEk",
        "cellView": "form"
      },
      "source": [
        "#@title Clean Slate\n",
        "#@markdown Deletes all files from colab when run. \n",
        "#@markdown\n",
        "#@markdown (run AFTER downloading CSVs)\n",
        "!rm *.*\n",
        "print(\"Done and Dusted!\")"
      ],
      "execution_count": null,
      "outputs": []
    }
  ]
}